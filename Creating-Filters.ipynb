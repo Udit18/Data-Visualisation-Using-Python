{
 "cells": [
  {
   "cell_type": "code",
   "execution_count": 2,
   "metadata": {},
   "outputs": [],
   "source": [
    "import cv2"
   ]
  },
  {
   "cell_type": "code",
   "execution_count": 2,
   "metadata": {},
   "outputs": [],
   "source": [
    "gray_image=cv2.imread('udit.png',cv2.IMREAD_GRAYSCALE)"
   ]
  },
  {
   "cell_type": "code",
   "execution_count": 3,
   "metadata": {},
   "outputs": [],
   "source": [
    "cv2.imshow('gray image',image)"
   ]
  },
  {
   "cell_type": "code",
   "execution_count": 5,
   "metadata": {},
   "outputs": [
    {
     "data": {
      "text/plain": [
       "-1"
      ]
     },
     "execution_count": 5,
     "metadata": {},
     "output_type": "execute_result"
    }
   ],
   "source": [
    "cv2.waitKey(0)"
   ]
  },
  {
   "cell_type": "code",
   "execution_count": null,
   "metadata": {},
   "outputs": [],
   "source": [
    "\n"
   ]
  },
  {
   "cell_type": "code",
   "execution_count": 11,
   "metadata": {},
   "outputs": [],
   "source": [
    "cam=cv2.VideoCapture(0)\n",
    "\n",
    "while True:\n",
    "    flag,frame=cam.read()\n",
    "    cv2.imshow('camera feed',frame)\n",
    "    k=cv2.waitKey(1)\n",
    "    if k==ord('s'):\n",
    "        break\n",
    "cam.release()\n",
    "cv2.destroyAllWindows()"
   ]
  },
  {
   "cell_type": "code",
   "execution_count": 13,
   "metadata": {},
   "outputs": [],
   "source": [
    "cam=cv2.VideoCapture(0)\n",
    "\n",
    "while True:\n",
    "    flag,frame=cam.read()\n",
    "    cv2.line(frame,(0,0),(40,50),(20,200,20),100) #cv2.line(image,starting,ending-coordinate,RGB,thickness)\n",
    "    cv2.imshow('camera feed',frame)\n",
    "    k=cv2.waitKey(1)\n",
    "    if k==ord('s'):\n",
    "        break\n",
    "cam.release()\n",
    "cv2.destroyAllWindows()"
   ]
  },
  {
   "cell_type": "code",
   "execution_count": 15,
   "metadata": {},
   "outputs": [],
   "source": [
    "cam=cv2.VideoCapture(0)\n",
    "\n",
    "while True:\n",
    "    flag,frame=cam.read()\n",
    "    cv2.rectangle(frame,(0,0),(40,50),(20,200,20),10) #cv2.rectangle(image,starting,ending-coordinate,RGB,Width)\n",
    "    cv2.imshow('camera feed',frame)\n",
    "    k=cv2.waitKey(1)\n",
    "    if k==ord('s'):\n",
    "        break\n",
    "cam.release()\n",
    "cv2.destroyAllWindows()"
   ]
  },
  {
   "cell_type": "code",
   "execution_count": 19,
   "metadata": {},
   "outputs": [],
   "source": [
    "cam=cv2.VideoCapture(0)\n",
    "\n",
    "while True:\n",
    "    flag,frame=cam.read()\n",
    "    cv2.circle(frame,(300,250),200,(0,0,0),10) #cv2.circle(image,radius,RGB,Width)\n",
    "    cv2.imshow('camera feed',frame)\n",
    "    k=cv2.waitKey(1)\n",
    "    if k==ord('s'):\n",
    "        break\n",
    "cam.release()\n",
    "cv2.destroyAllWindows()"
   ]
  },
  {
   "cell_type": "code",
   "execution_count": 20,
   "metadata": {},
   "outputs": [],
   "source": [
    "#roi-region of interest"
   ]
  },
  {
   "cell_type": "code",
   "execution_count": 21,
   "metadata": {},
   "outputs": [],
   "source": [
    "cam=cv2.VideoCapture(0)\n",
    "\n",
    "while True:\n",
    "    flag,frame=cam.read()\n",
    "    cv2.circle(frame,(300,250),200,(0,0,0),10) #cv2.circle(image,radius,RGB,Width)\n",
    "    frame[10:100,0:300]=(255,255,255)\n",
    "    cv2.imshow('camera feed',frame)\n",
    "    k=cv2.waitKey(1)\n",
    "    if k==ord('s'):\n",
    "        break\n",
    "cam.release()\n",
    "cv2.destroyAllWindows()"
   ]
  },
  {
   "cell_type": "code",
   "execution_count": 14,
   "metadata": {},
   "outputs": [],
   "source": [
    "cam=cv2.VideoCapture(0)\n",
    "kernel=cv2.createBackgroundSubtractorMOG2()\n",
    "while True:\n",
    "    flag,frame=cam.read()\n",
    "    #cv2.circle(frame,(300,250),200,(0,0,0),10) #cv2.circle(image,radius,RGB,Width)\n",
    "    frame[0:800,0:200]=frame[0:800,200:400]\n",
    "    frame[0:800,400:600]=frame[0:800,0:200]\n",
    "    #frame[402:600,403:600]=frame[202:400,203:400]\n",
    "    movement=kernel.apply(frame)\n",
    "    cv2.imshow('camera feed',frame)\n",
    "    cv2.imshow('Chnages',movement)\n",
    "    k=cv2.waitKey(1)\n",
    "    if k==ord('s'):\n",
    "        break\n",
    "cam.release()\n",
    "cv2.destroyAllWindows()"
   ]
  },
  {
   "cell_type": "code",
   "execution_count": 4,
   "metadata": {},
   "outputs": [],
   "source": [
    "cam=cv2.VideoCapture(0)\n",
    "kernel=cv2.createBackgroundSubtractorMOG2()\n",
    "while True:\n",
    "    flag,frame=cam.read()\n",
    "    #cv2.circle(frame,(300,250),200,(0,0,0),10) #cv2.circle(image,radius,RGB,Width)\n",
    "    frame[0:800,0:200]=frame[0:800,200:400]\n",
    "    xyz=frame[0:800,0:200]\n",
    "    #cv2.imwrite('frame.jpg',xyz)\n",
    "    xyz1=cv2.imread('xyz',cv2.IMREAD_GRAYSCALE)\n",
    "    \n",
    "    \n",
    "    #frame[0:400,400:600] = xyz\n",
    "    \n",
    "    #frame[402:600,403:600]=frame[202:400,203:400]\n",
    "    movement=kernel.apply(frame)\n",
    "    cv2.imshow('camera feed',frame)\n",
    "    #cv2.imshow('new',xyz1)\n",
    "    cv2.imshow('CHANGES',movement)\n",
    "    k=cv2.waitKey(1)\n",
    "    if k==ord('s'):\n",
    "        break\n",
    "cam.release()\n",
    "cv2.destroyAllWindows()"
   ]
  },
  {
   "cell_type": "code",
   "execution_count": null,
   "metadata": {},
   "outputs": [],
   "source": []
  }
 ],
 "metadata": {
  "kernelspec": {
   "display_name": "Python 3",
   "language": "python",
   "name": "python3"
  },
  "language_info": {
   "codemirror_mode": {
    "name": "ipython",
    "version": 3
   },
   "file_extension": ".py",
   "mimetype": "text/x-python",
   "name": "python",
   "nbconvert_exporter": "python",
   "pygments_lexer": "ipython3",
   "version": "3.6.5"
  }
 },
 "nbformat": 4,
 "nbformat_minor": 2
}
